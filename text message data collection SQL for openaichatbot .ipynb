{
 "cells": [
  {
   "cell_type": "code",
   "execution_count": 1,
   "id": "704a08b4",
   "metadata": {},
   "outputs": [
    {
     "name": "stdout",
     "output_type": "stream",
     "text": [
      "No conversation found for +17732125545\n"
     ]
    }
   ],
   "source": [
    "import sqlite3\n",
    "import re\n",
    "def print_conversation(phone_number_or_contact_name):\n",
    "    convoList=[]\n",
    "    # Connect to the iMessage database on your MacBook\n",
    "    conn = sqlite3.connect('/Users/zachariahalzubi/Library/Messages/chat.db')\n",
    "    c = conn.cursor()\n",
    "\n",
    "    # Query the database to get the ROWID for the specified phone number or contact name\n",
    "    c.execute(\"SELECT ROWID FROM handle WHERE id=?\", (phone_number_or_contact_name,))\n",
    "    result = c.fetchone()\n",
    "    if result is None:\n",
    "        # If no handle was found, print an error message and exit the function\n",
    "        print(f\"No conversation found for {phone_number_or_contact_name}\")\n",
    "        return\n",
    "\n",
    "    handle_id = result[0]\n",
    "\n",
    "    # Query the database to get all the messages for the handle_id\n",
    "    c.execute(\"SELECT is_from_me, text FROM message WHERE handle_id=?\", (handle_id,))\n",
    "    messages = c.fetchall()\n",
    "\n",
    "    # Print the conversation in the format \"me: 'My message' (newline) other person: :'their message'\"\n",
    "    for message in messages:\n",
    "        is_from_me = message[0]\n",
    "        text = message[1]\n",
    "        if is_from_me:\n",
    "            convoList.append(f\"me: {text}\")\n",
    "        else:\n",
    "            convoList.append(f\"sender: {text}\")\n",
    "    return convoList\n",
    "\n",
    "# Example usage:\n",
    "print_conversation(\"+17732125545\")  # Specify a phone number to print the conversation with that contact\n",
    "\n"
   ]
  }
 ],
 "metadata": {
  "kernelspec": {
   "display_name": "Python 3 (ipykernel)",
   "language": "python",
   "name": "python3"
  },
  "language_info": {
   "codemirror_mode": {
    "name": "ipython",
    "version": 3
   },
   "file_extension": ".py",
   "mimetype": "text/x-python",
   "name": "python",
   "nbconvert_exporter": "python",
   "pygments_lexer": "ipython3",
   "version": "3.9.13"
  },
  "widgets": {
   "application/vnd.jupyter.widget-state+json": {
    "state": {},
    "version_major": 2,
    "version_minor": 0
   }
  }
 },
 "nbformat": 4,
 "nbformat_minor": 5
}
